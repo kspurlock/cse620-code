{
  "cells": [
    {
      "cell_type": "markdown",
      "metadata": {
        "id": "V2swc2ES9g0u"
      },
      "source": [
        "# Gradient Descent\n",
        "---"
      ]
    },
    {
      "cell_type": "code",
      "execution_count": null,
      "metadata": {
        "id": "5-HQ71Abfkqt",
        "outputId": "ef4ef884-ff37-4545-99af-b028d6745f95"
      },
      "outputs": [
        {
          "name": "stdout",
          "output_type": "stream",
          "text": [
            "Defaulting to user installation because normal site-packages is not writeable\n",
            "Requirement already satisfied: torch in c:\\users\\kylei\\appdata\\roaming\\python\\python310\\site-packages (2.0.1)\n",
            "Requirement already satisfied: sympy in c:\\program files\\python310\\lib\\site-packages (1.12)\n",
            "Requirement already satisfied: numpy in c:\\users\\kylei\\appdata\\roaming\\python\\python310\\site-packages (1.23.4)\n",
            "Requirement already satisfied: matplotlib in c:\\users\\kylei\\appdata\\roaming\\python\\python310\\site-packages (3.6.2)\n",
            "Requirement already satisfied: filelock in c:\\program files\\python310\\lib\\site-packages (from torch) (3.13.1)\n",
            "Requirement already satisfied: typing-extensions in c:\\program files\\python310\\lib\\site-packages (from torch) (4.8.0)\n",
            "Requirement already satisfied: networkx in c:\\program files\\python310\\lib\\site-packages (from torch) (2.8.8)\n",
            "Requirement already satisfied: jinja2 in c:\\program files\\python310\\lib\\site-packages (from torch) (3.1.2)\n",
            "Requirement already satisfied: mpmath>=0.19 in c:\\program files\\python310\\lib\\site-packages (from sympy) (1.3.0)\n",
            "Requirement already satisfied: contourpy>=1.0.1 in c:\\users\\kylei\\appdata\\roaming\\python\\python310\\site-packages (from matplotlib) (1.0.6)\n",
            "Requirement already satisfied: cycler>=0.10 in c:\\users\\kylei\\appdata\\roaming\\python\\python310\\site-packages (from matplotlib) (0.11.0)\n",
            "Requirement already satisfied: fonttools>=4.22.0 in c:\\users\\kylei\\appdata\\roaming\\python\\python310\\site-packages (from matplotlib) (4.38.0)\n",
            "Requirement already satisfied: kiwisolver>=1.0.1 in c:\\users\\kylei\\appdata\\roaming\\python\\python310\\site-packages (from matplotlib) (1.4.4)\n",
            "Requirement already satisfied: packaging>=20.0 in c:\\users\\kylei\\appdata\\roaming\\python\\python310\\site-packages (from matplotlib) (21.3)\n",
            "Requirement already satisfied: pillow>=6.2.0 in c:\\users\\kylei\\appdata\\roaming\\python\\python310\\site-packages (from matplotlib) (9.3.0)\n",
            "Requirement already satisfied: pyparsing>=2.2.1 in c:\\users\\kylei\\appdata\\roaming\\python\\python310\\site-packages (from matplotlib) (3.0.9)\n",
            "Requirement already satisfied: python-dateutil>=2.7 in c:\\program files\\python310\\lib\\site-packages (from matplotlib) (2.8.2)\n",
            "Requirement already satisfied: six>=1.5 in c:\\program files\\python310\\lib\\site-packages (from python-dateutil>=2.7->matplotlib) (1.16.0)\n",
            "Requirement already satisfied: MarkupSafe>=2.0 in c:\\program files\\python310\\lib\\site-packages (from jinja2->torch) (2.1.3)\n",
            "Note: you may need to restart the kernel to use updated packages.\n"
          ]
        },
        {
          "name": "stderr",
          "output_type": "stream",
          "text": [
            "WARNING: Ignoring invalid distribution -ffi (c:\\program files\\python310\\lib\\site-packages)\n",
            "WARNING: Ignoring invalid distribution -ffi (c:\\program files\\python310\\lib\\site-packages)\n",
            "\n",
            "[notice] A new release of pip is available: 24.0 -> 24.3.1\n",
            "[notice] To update, run: python.exe -m pip install --upgrade pip\n"
          ]
        }
      ],
      "source": [
        "%pip install torch sympy numpy matplotlib"
      ]
    },
    {
      "cell_type": "markdown",
      "metadata": {
        "id": "FpxLM2sS9g0w"
      },
      "source": [
        "# 1. Manual Differentiation"
      ]
    },
    {
      "cell_type": "code",
      "execution_count": null,
      "metadata": {
        "id": "wkHXIjMX9g0x"
      },
      "outputs": [],
      "source": [
        "import numpy as np\n",
        "import matplotlib.pyplot as plt\n",
        "from typing import Tuple, Iterable\n",
        "%matplotlib inline"
      ]
    },
    {
      "cell_type": "code",
      "execution_count": null,
      "metadata": {
        "id": "7vo7AwP49g0y"
      },
      "outputs": [],
      "source": [
        "def f_x(x): return x**3 - 4*x**2 + 6\n",
        "def df_dx(x): return 3*x**2 - 8*x"
      ]
    },
    {
      "cell_type": "code",
      "execution_count": null,
      "metadata": {
        "colab": {
          "base_uri": "https://localhost:8080/",
          "height": 430
        },
        "id": "CPhjSbkm9g0y",
        "outputId": "cfc96d13-5fcf-4b23-e375-8620d05916ca"
      },
      "outputs": [
        {
          "data": {
            "image/png": "[encoded data removed]",
            "text/plain": [
              "<Figure size 640x480 with 1 Axes>"
            ]
          },
          "metadata": {},
          "output_type": "display_data"
        }
      ],
      "source": [
        "x = np.linspace(-1, 4, 10000)\n",
        "plt.plot(x, f_x(x), color=\"red\", label=\"$f(x)$\")\n",
        "plt.plot(x, df_dx(x), color=\"purple\", label=r\"$\\frac{df}{dx}$\", alpha=0.3)\n",
        "plt.legend()\n",
        "plt.show()"
      ]
    },
    {
      "cell_type": "markdown",
      "metadata": {
        "id": "WqjVt-w-9g0z"
      },
      "source": [
        "Wherever ∇f(x) < 0, the function is decreasing. When ∇f(x) > 0 the function is increasing. We want to move in the direction opposite the gradient."
      ]
    },
    {
      "cell_type": "code",
      "execution_count": null,
      "metadata": {
        "id": "7rESTMAg9g0z"
      },
      "outputs": [],
      "source": [
        "def gradient_descent(x0: float, bounds: Iterable, step_size: float, max_iter: int, eps: float) -> Tuple[np.ndarray, np.ndarray]:\n",
        "    x_history = [x0]\n",
        "    y_history = [f_x(x0)]\n",
        "\n",
        "    for i in range(0, max_iter):\n",
        "        x_t = x_history[i] - (step_size * df_dx(x_history[i]))\n",
        "        x_t = min(max(bounds[0], x_t), bounds[1]) # Ensures that no movement occurs outside of the function bounds\n",
        "        y_t = f_x(x_t)\n",
        "\n",
        "        x_history.append(x_t)\n",
        "        y_history.append(y_t)\n",
        "\n",
        "        print(f\"Iteration: {i+1}\")\n",
        "        print(f\"Current local minimum: {x_t}\")\n",
        "        print(f\"Function eval: {y_t}\")\n",
        "        print(\"-\"*30)\n",
        "\n",
        "        if eps:\n",
        "            if np.abs(x_t - x_history[i]) < eps:\n",
        "                break\n",
        "\n",
        "    return x_history, y_history\n",
        "\n",
        "bounds = [min(x), max(x)]\n",
        "x_hist, y_hist = gradient_descent(x0=0.5, bounds=bounds, step_size=0.05, max_iter=100, eps=0.001)"
      ]
    },
    {
      "cell_type": "code",
      "execution_count": null,
      "metadata": {
        "id": "D5eQcxHO9g0z",
        "outputId": "97cc120d-bb22-4921-8eec-9f22629a7557"
      },
      "outputs": [
        {
          "data": {
            "image/png": "[encoded data removed]",
            "text/plain": [
              "<Figure size 1500x700 with 2 Axes>"
            ]
          },
          "metadata": {},
          "output_type": "display_data"
        }
      ],
      "source": [
        "fig = plt.figure(figsize=(15,7))\n",
        "x = np.linspace(-1, 4, 1000)\n",
        "y = list(map(f_x, x))\n",
        "\n",
        "ax1 = plt.subplot(121)\n",
        "ax2 = plt.subplot(122)\n",
        "\n",
        "# Base plot\n",
        "ax1.plot(x, y, color=\"red\")\n",
        "y_diff = np.array(list(map(df_dx, x)))\n",
        "neg_grad = y_diff[y_diff < 0]\n",
        "pos_grad = y_diff[y_diff > 0]\n",
        "\n",
        "ax1.plot(x[y_diff < 0], neg_grad, color=\"purple\", label=\"-Grad\", alpha=0.5)\n",
        "ax1.scatter(x[y_diff > 0], pos_grad, color=\"turquoise\", s=0.75, label=\"+Grad\", alpha=0.7)\n",
        "ax1.scatter(x_hist, y_hist, color=\"blue\", s=20, zorder=2)\n",
        "\n",
        "ax2.set_xlim([np.min(x_hist)-1, np.max(x_hist)+1])\n",
        "ax2.plot(x, y, color=\"red\")\n",
        "ax2.scatter(x_hist, y_hist, color=\"blue\", s=20, zorder=2)\n",
        "ax1.legend()\n",
        "plt.show()"
      ]
    },
    {
      "cell_type": "markdown",
      "metadata": {
        "id": "PClt36mV9g00"
      },
      "source": [
        "# 2. Symbolic Differentiation"
      ]
    },
    {
      "cell_type": "markdown",
      "metadata": {
        "id": "eHE6Lv6_9g00"
      },
      "source": [
        "Finding the partial derivatives by hand can be tedious and is the option most prone to error. A slightly better way to do this and with less on our part is by **symbolic differentiation**. If you have every used a tool like symbolab to compute integrals/derivatives this is similar."
      ]
    },
    {
      "cell_type": "code",
      "execution_count": null,
      "metadata": {
        "id": "lxawSroi9g00",
        "outputId": "9b2f61db-9986-431a-841f-f4c23243915b"
      },
      "outputs": [
        {
          "data": {
            "text/latex": [
              "$\\displaystyle x_{1}^{2} + x_{1} x_{2} + x_{2}^{3} + 1$"
            ],
            "text/plain": [
              "x1**2 + x1*x2 + x2**3 + 1"
            ]
          },
          "execution_count": 107,
          "metadata": {},
          "output_type": "execute_result"
        }
      ],
      "source": [
        "from sympy import symbols, lambdify\n",
        "x1, x2 = symbols('x1 x2')\n",
        "f_x = x2**3 + x1**2 + x1*x2 + 1\n",
        "f_x"
      ]
    },
    {
      "cell_type": "code",
      "execution_count": null,
      "metadata": {
        "id": "Mwi0gsqM9g00",
        "outputId": "c26af0b1-a0c5-4de1-a77a-ee24d459df7b"
      },
      "outputs": [
        {
          "data": {
            "text/latex": [
              "$\\displaystyle 2 x_{1} + x_{2}$"
            ],
            "text/plain": [
              "2*x1 + x2"
            ]
          },
          "execution_count": 108,
          "metadata": {},
          "output_type": "execute_result"
        }
      ],
      "source": [
        "f_x.diff(x1)"
      ]
    },
    {
      "cell_type": "code",
      "execution_count": null,
      "metadata": {
        "id": "4oSptRr29g00",
        "outputId": "e58c4643-51ea-4aed-f789-7d0241b1afb1"
      },
      "outputs": [
        {
          "data": {
            "text/latex": [
              "$\\displaystyle \\left[\\begin{matrix}2 x_{1} + x_{2} & x_{1} + 3 x_{2}^{2}\\end{matrix}\\right]$"
            ],
            "text/plain": [
              "[2*x1 + x2, x1 + 3*x2**2]"
            ]
          },
          "execution_count": 109,
          "metadata": {},
          "output_type": "execute_result"
        }
      ],
      "source": [
        "from sympy.tensor.array import derive_by_array\n",
        "\n",
        "grad = derive_by_array(f_x, (x1, x2))\n",
        "grad"
      ]
    },
    {
      "cell_type": "code",
      "execution_count": null,
      "metadata": {
        "id": "Mni78oYT9g01"
      },
      "outputs": [],
      "source": [
        "f_x_lambda = lambdify([x1, x2], f_x, \"numpy\") # The function\n",
        "grad_f = [lambdify([x1, x2], f, \"numpy\") for f in grad] # The gradient of the function w.r.t. each variable"
      ]
    },
    {
      "cell_type": "code",
      "execution_count": null,
      "metadata": {
        "id": "AELrN7et9g01",
        "outputId": "7d98ea09-7955-4e98-f40b-2576092e7d4e"
      },
      "outputs": [
        {
          "data": {
            "text/latex": [
              "$\\displaystyle 2 x_{1} + x_{2}$"
            ],
            "text/plain": [
              "2*x1 + x2"
            ]
          },
          "metadata": {},
          "output_type": "display_data"
        },
        {
          "data": {
            "text/plain": [
              "14"
            ]
          },
          "execution_count": 111,
          "metadata": {},
          "output_type": "execute_result"
        }
      ],
      "source": [
        "x0 = np.array([2, 10])\n",
        "display(grad[0])\n",
        "grad_f[0](*x0)"
      ]
    },
    {
      "cell_type": "code",
      "execution_count": null,
      "metadata": {
        "id": "GFkj_3GH9g01",
        "outputId": "cebf0549-136a-470d-b46c-97e174ef4296"
      },
      "outputs": [
        {
          "data": {
            "text/plain": [
              "1025"
            ]
          },
          "execution_count": 112,
          "metadata": {},
          "output_type": "execute_result"
        }
      ],
      "source": [
        "f_x_lambda(*x0)"
      ]
    },
    {
      "cell_type": "code",
      "execution_count": null,
      "metadata": {
        "id": "_Jk8Zc_19g01"
      },
      "outputs": [],
      "source": [
        "def gradient_descent(x0: float, bounds: Iterable, step_size: float, max_iter: int, eps: float) -> Tuple[np.ndarray, np.ndarray]:\n",
        "    x_history = [x0]\n",
        "    y_history = [f_x_lambda(*x0)]\n",
        "\n",
        "    for i in range(max_iter):\n",
        "        x_t = np.array([0., 0.])\n",
        "        for j in range(len(x0)):\n",
        "            x_t[j] = x_history[i][j] - (step_size * grad_f[j](*x_history[i])) # Update parameter j\n",
        "            x_t[j] = min(max(bounds[j][0], x_t[j]), bounds[j][1]) # Ensures that no movement occurs outside of the function bounds\n",
        "\n",
        "        y_t = f_x_lambda(*x_t)\n",
        "\n",
        "        x_history.append(x_t)\n",
        "        y_history.append(y_t)\n",
        "\n",
        "        print(f\"Iteration: {i+1}\")\n",
        "        print(f\"Current local minimum: {x_t}\")\n",
        "        print(f\"Function eval: {y_t}\")\n",
        "        print(\"-\"*30)\n",
        "\n",
        "        if eps:\n",
        "            if np.abs(x_t - x_history[i]).sum() < eps:\n",
        "                break\n",
        "\n",
        "    return x_history, y_history\n",
        "\n",
        "\n",
        "x0 = np.array([2, 10])\n",
        "bounds = [(-np.inf, np.inf) for _ in range(2)]\n",
        "hist = gradient_descent(x0=x0, bounds=bounds, step_size=0.01, max_iter=100, eps=0.001)"
      ]
    },
    {
      "cell_type": "markdown",
      "metadata": {
        "id": "zLdJxcog9g01"
      },
      "source": [
        "# 3. Autograd"
      ]
    },
    {
      "cell_type": "markdown",
      "metadata": {
        "id": "2KpBRoiCfkq5"
      },
      "source": [
        "Collection of approaches where gradient computation is done automatically through a computation graph."
      ]
    },
    {
      "cell_type": "markdown",
      "metadata": {
        "id": "h2OILqmN9g01"
      },
      "source": [
        "## 3.1 Pytorch\n",
        "---\n",
        "**Step 1: Create a computation graph**\n",
        "\n",
        "When you create a PyTorch tensor and provide the argument `requires_grad=True`, it is automatically attached to a computation graph.\n",
        "\n",
        "**Step 2: Perform forward pass**\n",
        "\n",
        "When you perform operations on tensors, such as matrix multiplication or convolution, PyTorch creates a new tensor that represents the result of those operations. The computation graph is updated to reflect the new operations.\n",
        "\n",
        "**Step 3: Compute gradients**\n",
        "\n",
        "When you call the `backward()` method on a tensor, PyTorch traverses the computation graph in reverse order, computing the gradients of each operation with respect to its inputs. This is done using the chain rule of calculus.\n",
        "\n",
        "**Step 4: Accumulate gradients**\n",
        "\n",
        "As PyTorch computes the gradients, it accumulates them in the `grad` attribute of each tensor. This allows you to access the gradients of each tensor after the backward pass.\n",
        "\n",
        "**Step 5: Update model parameters**\n",
        "\n",
        "Using the accumulated gradients, you can update the model parameters using an optimization algorithm, such as stochastic gradient descent (SGD).\n",
        "\n",
        "In summary, PyTorch's Autograd system automatically creates a computation graph, performs forward and backward passes, computes gradients, accumulates them, and allows you to update model parameters using optimization algorithms"
      ]
    },
    {
      "cell_type": "markdown",
      "metadata": {
        "id": "zfniFqyq9g01"
      },
      "source": [
        "### 3.1.1 Neural Network Example"
      ]
    },
    {
      "cell_type": "code",
      "execution_count": null,
      "metadata": {
        "id": "DaXEemV59g01",
        "outputId": "e3139fac-4ac9-4496-cd32-713745d21254"
      },
      "outputs": [
        {
          "data": {
            "text/plain": [
              "tensor([800.9057, 820.4493, 748.7545, 846.4409, 768.4225, 879.1286, 712.5182,\n",
              "        707.7337, 803.5945, 749.7166, 758.0955, 773.0328, 806.3203, 765.3997,\n",
              "        720.9338, 754.8772, 827.6507, 763.8168, 700.7144, 755.8879],\n",
              "       grad_fn=<ReluBackward0>)"
            ]
          },
          "execution_count": 114,
          "metadata": {},
          "output_type": "execute_result"
        }
      ],
      "source": [
        "import torch\n",
        "import torch.nn.functional as F\n",
        "import torch.nn as nn\n",
        "\n",
        "torch.manual_seed(192)\n",
        "\n",
        "batch_X = torch.rand((20, 100))\n",
        "batch_Y = torch.rand((20, ))\n",
        "W = torch.rand((30, 100), requires_grad=True) # Requires grad indicates ~where~ the gradient needs to be propogated to\n",
        "b = torch.rand((30,), requires_grad=True)\n",
        "\n",
        "activations = F.relu(torch.sum(batch_X @ W.T + b, axis=1))\n",
        "activations"
      ]
    },
    {
      "cell_type": "code",
      "execution_count": null,
      "metadata": {
        "id": "nepewAis9g02"
      },
      "outputs": [],
      "source": [
        "loss = nn.MSELoss()(batch_Y, activations)\n",
        "loss.backward() # Propogate the gradient backwards through the computation graph"
      ]
    },
    {
      "cell_type": "code",
      "execution_count": null,
      "metadata": {
        "id": "yXEAZLqC9g02",
        "outputId": "2a6d1763-19d0-4d86-cf10-a8537839a308"
      },
      "outputs": [
        {
          "name": "stdout",
          "output_type": "stream",
          "text": [
            "W.grad=tensor([[701.6978, 764.7663, 817.0551,  ..., 724.7969, 803.5891, 549.8976],\n",
            "        [701.6978, 764.7663, 817.0551,  ..., 724.7969, 803.5891, 549.8976],\n",
            "        [701.6978, 764.7663, 817.0551,  ..., 724.7969, 803.5891, 549.8976],\n",
            "        ...,\n",
            "        [701.6978, 764.7663, 817.0551,  ..., 724.7969, 803.5891, 549.8976],\n",
            "        [701.6978, 764.7663, 817.0551,  ..., 724.7969, 803.5891, 549.8976],\n",
            "        [701.6978, 764.7663, 817.0551,  ..., 724.7969, 803.5891, 549.8976]])\n",
            "b.grad=tensor([1545.4539, 1545.4539, 1545.4539, 1545.4539, 1545.4539, 1545.4539,\n",
            "        1545.4539, 1545.4539, 1545.4539, 1545.4539, 1545.4539, 1545.4539,\n",
            "        1545.4539, 1545.4539, 1545.4539, 1545.4539, 1545.4539, 1545.4539,\n",
            "        1545.4539, 1545.4539, 1545.4539, 1545.4539, 1545.4539, 1545.4539,\n",
            "        1545.4539, 1545.4539, 1545.4539, 1545.4539, 1545.4539, 1545.4539])\n"
          ]
        }
      ],
      "source": [
        "print(f\"{W.grad=}\\n{b.grad=}\")"
      ]
    },
    {
      "cell_type": "markdown",
      "metadata": {
        "id": "szG08XnT9g02"
      },
      "source": [
        "### 3.1.2 Classical Example"
      ]
    },
    {
      "cell_type": "code",
      "execution_count": null,
      "metadata": {
        "id": "D7wPMz5T9g02",
        "outputId": "e53a156f-3373-488c-a58b-a109c7e32c31"
      },
      "outputs": [
        {
          "data": {
            "text/plain": [
              "tensor([ 0.3848,  0.6649,  0.8092,  0.4758,  0.5127,  0.0332,  0.4222,  0.3086,\n",
              "         0.1175,  0.1416,  0.5215,  0.7625,  0.2948,  0.7819, -0.0881,  0.5417,\n",
              "         0.8413,  0.3546,  0.7818,  0.8437])"
            ]
          },
          "execution_count": 117,
          "metadata": {},
          "output_type": "execute_result"
        }
      ],
      "source": [
        "x = torch.rand((20,), requires_grad=True)\n",
        "\n",
        "def torch_f(x): return (torch.sin(x) + torch.cos(x)**6 + 1/1+torch.exp(x)).mean()\n",
        "\n",
        "y = torch_f(x)\n",
        "y.backward()\n",
        "\n",
        "(x.detach() - x.grad) # Detach removes a tensor from the computation graph"
      ]
    },
    {
      "cell_type": "code",
      "execution_count": null,
      "metadata": {
        "id": "aW_6nK_q9g02"
      },
      "outputs": [],
      "source": [
        "def gradient_descent(x0: float, step_size: float, max_iter: int, eps: float) -> Tuple[np.ndarray, np.ndarray]:\n",
        "    x_history = [x0]\n",
        "\n",
        "    with torch.no_grad():\n",
        "        y_history = [torch_f(x)]\n",
        "\n",
        "    for i in range(max_iter):\n",
        "        y_t = torch_f(x_history[i])\n",
        "\n",
        "        y_t.backward() # Compute gradient backwards through computational graph\n",
        "\n",
        "        x_t = x_history[i].detach().clone() - step_size*x_history[i].grad\n",
        "        x_t.requires_grad = True\n",
        "        x_history[i].requires_grad = False # No longer need the gradient stored in parameters from t-1 step\n",
        "\n",
        "        x_history.append(x_t)\n",
        "        y_history.append(y_t.item())\n",
        "\n",
        "        print(f\"Iteration: {i+1}\")\n",
        "        print(f\"Current local minimum: {x_t}\")\n",
        "        print(f\"Function eval: {y_t.item()}\")\n",
        "        print(\"-\"*30)\n",
        "\n",
        "        if eps:\n",
        "            # Or torch.inference_mode(), basically don't attach anything in here to the computation graph\n",
        "            with torch.no_grad():\n",
        "                dx = torch.abs(x_t - x_history[i]).sum()\n",
        "                if dx < eps:\n",
        "                    break\n",
        "\n",
        "    return x_history, y_history\n",
        "\n",
        "torch.manual_seed(0)\n",
        "x0 = torch.rand((20,), requires_grad=True)\n",
        "\n",
        "history = gradient_descent(x0, step_size=0.05, max_iter=1000, eps=0.001)"
      ]
    }
  ],
  "metadata": {
    "colab": {
      "provenance": []
    },
    "kernelspec": {
      "display_name": "Python 3",
      "language": "python",
      "name": "python3"
    },
    "language_info": {
      "codemirror_mode": {
        "name": "ipython",
        "version": 3
      },
      "file_extension": ".py",
      "mimetype": "text/x-python",
      "name": "python",
      "nbconvert_exporter": "python",
      "pygments_lexer": "ipython3",
      "version": "3.10.11"
    },
    "orig_nbformat": 4
  },
  "nbformat": 4,
  "nbformat_minor": 0
}