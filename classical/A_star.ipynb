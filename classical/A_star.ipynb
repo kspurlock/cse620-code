{
 "cells": [
  {
   "cell_type": "markdown",
   "metadata": {},
   "source": [
    "# A* Algorithm\n",
    "---\n",
    "Extends best-first search i.e. visit the \"best\" available node next. Quality of what is \"best\" is determined by some heuristic function h(n)"
   ]
  },
  {
   "cell_type": "markdown",
   "metadata": {},
   "source": [
    "Criteria for h(n):\n",
    "1. Admissible: algorithm always terminates at optimal solution.\n",
    "    - Possible if h*(n) $\\rightarrow$ h(n) $\\leq$ h*(n) $\\forall$ n\n",
    "    - Otherwise algorithm overestimates cost of the optimal solution, and may choose sub-optimal solution.\n",
    "\n",
    "2. As accurate as possible: tighter bounds on h_1 < h_2 < h* (h_2 is better here).\n"
   ]
  },
  {
   "cell_type": "markdown",
   "metadata": {},
   "source": [
    "Full cost of node n determined by f(n) = g(n) + h(n), where g(n) is the unaltered cost of traversing from n to another node m."
   ]
  },
  {
   "cell_type": "code",
   "execution_count": 1,
   "metadata": {},
   "outputs": [],
   "source": [
    "from collections import deque\n",
    "\n",
    "class Graph:\n",
    "    def __init__(self, adj_list, heuristic):\n",
    "        self.adj_list = adj_list\n",
    "        self.H = heuristic\n",
    "\n",
    "    def get_neighbors(self, v):\n",
    "        return self.adj_list[v]\n",
    "\n",
    "    # Heuristic function for each node\n",
    "    def h(self, n):\n",
    "        return self.H[n]\n",
    "\n",
    "    def A_star(self, start, stop_node):\n",
    "        # open_list is a list of nodes which have been visited, but who's neighbours\n",
    "        # haven\"t all been inspected, starts off with the start node\n",
    "        open_list = set([start])\n",
    "        \n",
    "        # Closed_list is a list of nodes which have been visited\n",
    "        # and who's neighbours have been inspected\n",
    "        closed_list = set([])\n",
    "\n",
    "        # G contains current distances from start to all other nodes\n",
    "        # the default value (if it\"s not found in the map) is +infinity\n",
    "        g = {start: 0}\n",
    "\n",
    "        # Parents contains an adjacency map of all nodes\n",
    "        parents = {start: start}\n",
    "\n",
    "        while len(open_list) > 0:\n",
    "            n = None\n",
    "\n",
    "            # Find a node with the lowest value of f(n) = g(n) + h(n)\n",
    "            for v in open_list:\n",
    "                if n == None or g[v] + self.h(v) < g[n] + self.h(n):\n",
    "                    n = v\n",
    "\n",
    "            if n == None:\n",
    "                print(\"Path does not exist!\")\n",
    "                return None\n",
    "\n",
    "            # If we have reached the goal, begin reconstructing the path to it from the start\n",
    "            if n == stop_node:\n",
    "                r_path = []\n",
    "                cost = g[n]\n",
    "\n",
    "                while parents[n] != n:\n",
    "                    r_path.append(n)\n",
    "                    n = parents[n]\n",
    "\n",
    "                r_path.append(start)\n",
    "                \n",
    "                r_path.reverse()\n",
    "\n",
    "                print(f\"Path found: {r_path}\")\n",
    "                print(f\"Cost of path: {cost}\")\n",
    "                return r_path\n",
    "\n",
    "            # For all neighbours of node n\n",
    "            for (m, m_weight) in self.get_neighbors(n):\n",
    "                # If current node is not in open list or closed list,\n",
    "                # add it to open_list and note n as it\"s parent\n",
    "                tentative_g = g[n] + m_weight\n",
    "                \n",
    "                if m not in open_list and m not in closed_list:\n",
    "                    open_list.add(m)\n",
    "                    parents[m] = n # Parent of m is n\n",
    "                    g[m] = tentative_g # Add the path cost of n to m\n",
    "\n",
    "                # Otherwise, check if it is more optimal to first visit n, and then m\n",
    "                # and if it is, update parent data and g data\n",
    "                # and if the node was in the closed_list, move it to open_list\n",
    "                else:\n",
    "                    if tentative_g < g[m]:\n",
    "                        g[m] = tentative_g\n",
    "                        parents[m] = n\n",
    "\n",
    "                        if m in closed_list:\n",
    "                            closed_list.remove(m)\n",
    "                            open_list.add(m)\n",
    "\n",
    "            # Remove n from the open_list, and add it to closed_list\n",
    "            # because all of its neighbours were inspected\n",
    "            open_list.remove(n)\n",
    "            closed_list.add(n)\n",
    "\n",
    "        print(\"Path does not exist!\")\n",
    "        return None"
   ]
  },
  {
   "cell_type": "code",
   "execution_count": 2,
   "metadata": {},
   "outputs": [
    {
     "name": "stdout",
     "output_type": "stream",
     "text": [
      "Path found: ['A', 'D', 'F']\n",
      "Cost of path: 21\n"
     ]
    },
    {
     "data": {
      "text/plain": [
       "['A', 'D', 'F']"
      ]
     },
     "execution_count": 2,
     "metadata": {},
     "output_type": "execute_result"
    }
   ],
   "source": [
    "adj_list = {\n",
    "    \"A\": [(\"B\", 11), (\"D\", 1)],\n",
    "    \"B\": [(\"D\", 5), (\"E\", 2)],\n",
    "    \"C\": [(\"D\", 12)],\n",
    "    \"D\": [(\"E\", 20), (\"F\", 20)],\n",
    "    \"E\": [(\"C\", 10), (\"B\", 1)],\n",
    "    \"F\": [(\"C\", 6)]\n",
    "}\n",
    "\n",
    "heuristic = {\"A\":3, # Let's assume that these are like straight line distances between cities\n",
    "             \"B\":50,\n",
    "             \"C\":2,\n",
    "             \"D\":1,\n",
    "             \"E\":1,\n",
    "             \"F\":1}\n",
    "\n",
    "graph1 = Graph(adj_list, heuristic)\n",
    "graph1.A_star(\"A\", \"F\")"
   ]
  },
  {
   "cell_type": "markdown",
   "metadata": {},
   "source": [
    "Additionally, Branch & Bound is obtained for:\n",
    "- h(n) = 0 $\\forall$ n\n",
    "- c(n) = real cost (start $\\rightarrow$ n)"
   ]
  },
  {
   "cell_type": "code",
   "execution_count": 3,
   "metadata": {},
   "outputs": [
    {
     "name": "stdout",
     "output_type": "stream",
     "text": [
      "Path found: ['A', 'D', 'F']\n",
      "Cost of path: 21\n"
     ]
    },
    {
     "data": {
      "text/plain": [
       "['A', 'D', 'F']"
      ]
     },
     "execution_count": 3,
     "metadata": {},
     "output_type": "execute_result"
    }
   ],
   "source": [
    "adj_list = {\n",
    "    \"A\": [(\"B\", 11), (\"D\", 1)],\n",
    "    \"B\": [(\"D\", 5), (\"E\", 2)],\n",
    "    \"C\": [(\"D\", 12)],\n",
    "    \"D\": [(\"E\", 20), (\"F\", 20)],\n",
    "    \"E\": [(\"C\", 10), (\"B\", 1)],\n",
    "    \"F\": [(\"C\", 6)]\n",
    "}\n",
    "\n",
    "heuristic = {\"A\":0,\n",
    "             \"B\":0,\n",
    "             \"C\":0,\n",
    "             \"D\":0,\n",
    "             \"E\":0,\n",
    "             \"F\":0}\n",
    "\n",
    "graph1 = Graph(adj_list, heuristic)\n",
    "graph1.A_star(\"A\", \"F\")"
   ]
  }
 ],
 "metadata": {
  "kernelspec": {
   "display_name": "Python 3",
   "language": "python",
   "name": "python3"
  },
  "language_info": {
   "codemirror_mode": {
    "name": "ipython",
    "version": 3
   },
   "file_extension": ".py",
   "mimetype": "text/x-python",
   "name": "python",
   "nbconvert_exporter": "python",
   "pygments_lexer": "ipython3",
   "version": "3.12.0"
  },
  "orig_nbformat": 4
 },
 "nbformat": 4,
 "nbformat_minor": 2
}
